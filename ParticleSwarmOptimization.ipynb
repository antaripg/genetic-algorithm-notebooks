{
  "nbformat": 4,
  "nbformat_minor": 0,
  "metadata": {
    "colab": {
      "provenance": [],
      "authorship_tag": "ABX9TyPS6Gphp2YCKCoTCeVSICS9",
      "include_colab_link": true
    },
    "kernelspec": {
      "name": "python3",
      "display_name": "Python 3"
    },
    "language_info": {
      "name": "python"
    }
  },
  "cells": [
    {
      "cell_type": "markdown",
      "metadata": {
        "id": "view-in-github",
        "colab_type": "text"
      },
      "source": [
        "<a href=\"https://colab.research.google.com/github/antaripg/metaheuristics-algorithm-notebooks/blob/main/ParticleSwarmOptimization.ipynb\" target=\"_parent\"><img src=\"https://colab.research.google.com/assets/colab-badge.svg\" alt=\"Open In Colab\"/></a>"
      ]
    },
    {
      "cell_type": "code",
      "execution_count": 1,
      "metadata": {
        "id": "xpqDjLmViWO9"
      },
      "outputs": [],
      "source": [
        "import numpy as np\n",
        "import random"
      ]
    },
    {
      "cell_type": "code",
      "source": [
        "def objective_function(params: list):\n",
        "  \"\"\"\n",
        "    Objective Function for Optimization\n",
        "  \"\"\"\n",
        "  x, y, z = params[0], params[1], params[2]\n",
        "  return (x-4)**2 + (y-5)**2 + (z+6)**2"
      ],
      "metadata": {
        "id": "NBSOxoUBoJ-K"
      },
      "execution_count": 2,
      "outputs": []
    },
    {
      "cell_type": "code",
      "source": [
        "# for p in particles[:2]:\n",
        "#   print(p)\n",
        "#   print(objective_function(p))"
      ],
      "metadata": {
        "id": "ovUvAIter9vh"
      },
      "execution_count": 12,
      "outputs": []
    },
    {
      "cell_type": "code",
      "source": [
        "# Define the bounds of the search space\n",
        "bounds = np.array([[-10, -10, -10], [10, 10, 10]])\n",
        "print(f\"Bounds [0]: {bounds[0]}\")\n",
        "print(f\"Bounds [1]: {bounds[1]}\")\n",
        "# Define parameters of the optimization that control the movement\n",
        "# of the particles in the search space\n",
        "n_particles = 100 # Number of particles in the swarm\n",
        "max_iterations = 30 # Maximum number of iterations\n",
        "\n",
        "print(f\"n_particles: {n_particles}\")\n",
        "print(f\"max_iterations: {max_iterations}\")\n",
        "\n",
        "# Inertia weight that balances the particle's current velocity\n",
        "# Note: High value of w leads to more exploration and less exploitation\n",
        "w = 0.5\n",
        "print(f\"Inertia Weight: {w}\")\n",
        "# c1 and c2 are the acceleration coefficients that control the influence\n",
        "# of the particle's best personal position and the global best position\n",
        "# on its movement\n",
        "\n",
        "c1 = 0.8 # Cognitive component - represents the particle's tendency to move towards best personal position\n",
        "c2 = 0.9 # Social component, which represents the particles tendency to move towards the global best position found by the swarm\n",
        "print(f\"Cognitive Component: {c1}\")\n",
        "print(f\"Social Component: {c2}\")\n",
        "\n",
        "# Initialize the particles and velocities\n",
        "particles = np.random.uniform(low=bounds[0],\n",
        "                              high=bounds[1],\n",
        "                              size=(n_particles, 3))\n",
        "velocities = np.zeros((n_particles, 3))\n",
        "\n",
        "print(f\"Shape of Particles: {particles.shape}\")\n",
        "print(f\"Shape of Velocities: {velocities.shape}\")\n",
        "\n",
        "# Initialize the best positions and best cost\n",
        "best_positions = particles.copy()\n",
        "best_costs = np.array([objective_function(p) for p in particles])\n",
        "\n",
        "print(f\"Shape of Best Positions: {best_positions.shape}\")\n",
        "print(f\"Shape of Best Cost: {best_costs.shape}\")\n",
        "\n",
        "# Initialize the global best position and global best cost\n",
        "global_best_position = particles[0].copy()\n",
        "global_best_cost = best_costs[0]\n",
        "\n",
        "print(f\"Global Best Position: {global_best_position}\")\n",
        "print(f\"Global Best Cost: {global_best_cost}\")"
      ],
      "metadata": {
        "colab": {
          "base_uri": "https://localhost:8080/"
        },
        "id": "tDisTpoaokxo",
        "outputId": "fef8d40e-650b-46cd-fb75-929e9bfe8669"
      },
      "execution_count": 9,
      "outputs": [
        {
          "output_type": "stream",
          "name": "stdout",
          "text": [
            "Bounds [0]: [-10 -10 -10]\n",
            "Bounds [1]: [10 10 10]\n",
            "n_particles: 100\n",
            "max_iterations: 30\n",
            "Inertia Weight: 0.5\n",
            "Cognitive Component: 0.8\n",
            "Social Component: 0.9\n",
            "Shape of Particles: (100, 3)\n",
            "Shape of Velocities: (100, 3)\n",
            "Shape of Best Positions: (100, 3)\n",
            "Shape of Best Cost: (100,)\n",
            "Global Best Position: [5.11377176 8.19678159 0.66322094]\n",
            "Global Best Cost: 55.85841336018814\n"
          ]
        }
      ]
    },
    {
      "cell_type": "code",
      "source": [
        "# Perform the optimization\n",
        "\n",
        "for i in range(max_iterations):\n",
        "\n",
        "  # Update the velocities\n",
        "  r1 = np.random.rand(n_particles, 3) # Random matrix for cognitive component\n",
        "  r2 = np.random.rand(n_particles, 3) # Random matrix for social component\n",
        "\n",
        "  # Cognitive component\n",
        "  cognitive_component = c1 * r1 * (best_positions - particles)\n",
        "  # Social component\n",
        "  social_component = c2 * r2 * (global_best_position - particles)\n",
        "\n",
        "  # Velocity\n",
        "  velocities = w * velocities + cognitive_component + social_component\n",
        "\n",
        "  # Update the positions\n",
        "  particles += velocities\n",
        "\n",
        "  # Enforce the bounds of the search space\n",
        "  particles = np.clip(particles, bounds[0], bounds[1])\n",
        "\n",
        "  # Evaluate the cost of each particle\n",
        "  costs = np.array([objective_function(p) for p in particles])\n",
        "\n",
        "  # Update the best positions\n",
        "  best_id = costs < best_cost\n",
        "  best_positions[best_id] = particles[best_id]\n",
        "  best_costs[best_id] = costs[best_id]\n",
        "  best_cost = np.min(best_costs)\n",
        "\n",
        "  # Update the global best position\n",
        "  if best_cost < global_best_cost:\n",
        "    global_best_id = np.argmin(best_costs)\n",
        "    global_best_position = particles[global_best_id].copy()\n",
        "    global_best_cost = best_costs[global_best_id]\n",
        "\n",
        "  # Print the progress\n",
        "  print(f\"Iteration {i+1}: Global Best Cost = {global_best_cost}\")\n",
        "\n",
        "# Print the Result\n",
        "print(f\"Global Best Position: {global_best_position}\")\n",
        "print(f\"Global Best Cost: {global_best_cost}\")"
      ],
      "metadata": {
        "colab": {
          "base_uri": "https://localhost:8080/"
        },
        "id": "P5mmMuqOqnYV",
        "outputId": "5f41f256-d4b9-4095-a775-435941c5f8cd"
      },
      "execution_count": 10,
      "outputs": [
        {
          "output_type": "stream",
          "name": "stdout",
          "text": [
            "Iteration 1: Global Best Cost = 0.32525610346859646\n",
            "Iteration 2: Global Best Cost = 0.32525610346859646\n",
            "Iteration 3: Global Best Cost = 0.32525610346859646\n",
            "Iteration 4: Global Best Cost = 0.2671605092468843\n",
            "Iteration 5: Global Best Cost = 0.2671605092468843\n",
            "Iteration 6: Global Best Cost = 0.13006888207642822\n",
            "Iteration 7: Global Best Cost = 0.09008828932747125\n",
            "Iteration 8: Global Best Cost = 0.07737621004998002\n",
            "Iteration 9: Global Best Cost = 0.07056914256957254\n",
            "Iteration 10: Global Best Cost = 0.0635483336623141\n",
            "Iteration 11: Global Best Cost = 0.057866939208804646\n",
            "Iteration 12: Global Best Cost = 0.057866939208804646\n",
            "Iteration 13: Global Best Cost = 0.057866939208804646\n",
            "Iteration 14: Global Best Cost = 0.054250667372739356\n",
            "Iteration 15: Global Best Cost = 0.04948785419819167\n",
            "Iteration 16: Global Best Cost = 0.04749799812965039\n",
            "Iteration 17: Global Best Cost = 0.04660095772506268\n",
            "Iteration 18: Global Best Cost = 0.04544535905433456\n",
            "Iteration 19: Global Best Cost = 0.04118804735333149\n",
            "Iteration 20: Global Best Cost = 0.03914968939342459\n",
            "Iteration 21: Global Best Cost = 0.03815308488611974\n",
            "Iteration 22: Global Best Cost = 0.037660426250629514\n",
            "Iteration 23: Global Best Cost = 0.03741550783742513\n",
            "Iteration 24: Global Best Cost = 0.037293401356957884\n",
            "Iteration 25: Global Best Cost = 0.03723243629825812\n",
            "Iteration 26: Global Best Cost = 0.0372019758142918\n",
            "Iteration 27: Global Best Cost = 0.037186751083654504\n",
            "Iteration 28: Global Best Cost = 0.03717914009617228\n",
            "Iteration 29: Global Best Cost = 0.03717533494689035\n",
            "Iteration 30: Global Best Cost = 0.037173432458364096\n",
            "Global Best Position: [ 3.94035188  4.92202313 -5.83406283]\n",
            "Global Best Cost: 0.037173432458364096\n"
          ]
        }
      ]
    },
    {
      "cell_type": "code",
      "source": [],
      "metadata": {
        "id": "ZXs55kxwtq_w"
      },
      "execution_count": null,
      "outputs": []
    }
  ]
}