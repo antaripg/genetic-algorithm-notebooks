{
  "nbformat": 4,
  "nbformat_minor": 0,
  "metadata": {
    "colab": {
      "provenance": [],
      "include_colab_link": true
    },
    "kernelspec": {
      "name": "python3",
      "display_name": "Python 3"
    },
    "language_info": {
      "name": "python"
    }
  },
  "cells": [
    {
      "cell_type": "markdown",
      "metadata": {
        "id": "view-in-github",
        "colab_type": "text"
      },
      "source": [
        "<a href=\"https://colab.research.google.com/github/antaripg/genetic-algorithm-notebooks/blob/main/GeneticAlgorithmCode_RGBImages.ipynb\" target=\"_parent\"><img src=\"https://colab.research.google.com/assets/colab-badge.svg\" alt=\"Open In Colab\"/></a>"
      ]
    },
    {
      "cell_type": "markdown",
      "source": [
        "## What are Genetic Algorithms (GA)?\n",
        "*   Inspired by natural selection process\n",
        "*   Type of optimization technique that imitates the process of evolution and natural selection\n",
        "\n",
        "Steps of Operation:\n",
        "*   Simulating a process of evolution\n",
        "*   Create a population of candidate solutions to the problem\n",
        "*   Iteratively repeating - selection, crossover and mutation\n",
        "\n",
        "\n",
        "\n",
        "The first part of the code below implements a genetic algorithm simulation to find the best RGB values that match a target RGB value. It involves the following 3 steps:\n",
        "\n",
        "* calc_fitness: calculates the mean absolute difference between an input RGB chromosome and the target RGB values. 2.evolve_population: evolves a population of chromosomes by selecting the best chromosomes (elites), mating them to create offspring, and applying random mutations to the offspring.\n",
        "* simulate: runs the genetic algorithm simulation by initializing a population of random RGB values, evolving the population over a specified number of generations, and returning the best chromosome found.\n",
        "\n",
        "The target RGB values are passed as input to the simulate function, and the simulation runs for 50 generations with a population size of 100, mutation rate of 0.01, and 10% of the population being selected as elites. The RGB values and fitness of the best individual in each generation are printed. The final output is the best chromosome found, which is the individual with the minimum fitness value (the closest match to the target RGB).\n"
      ],
      "metadata": {
        "id": "YCwFUThVwU8_"
      }
    },
    {
      "cell_type": "code",
      "source": [
        "import random\n",
        "import numpy as np\n",
        "import matplotlib.pyplot as plt"
      ],
      "metadata": {
        "id": "oXynK3l5wRM2"
      },
      "execution_count": null,
      "outputs": []
    },
    {
      "cell_type": "code",
      "execution_count": null,
      "metadata": {
        "colab": {
          "base_uri": "https://localhost:8080/"
        },
        "id": "Qam4KEB7vfwT",
        "outputId": "62b3ddd6-c78d-44a2-cc03-929b92410770"
      },
      "outputs": [
        {
          "output_type": "stream",
          "name": "stdout",
          "text": [
            "88.33333333333333\n"
          ]
        }
      ],
      "source": [
        "# Fitness Function - mean absolute difference between two arrays\n",
        "# Calculate absolute value element wise and then mean\n",
        "\n",
        "# MEAN ABSOLUTE DIFFERENCE -\n",
        "print(np.mean(np.abs(np.array([50, 50, 10]) - np.array([255, 0, 0]))))"
      ]
    },
    {
      "cell_type": "code",
      "source": [
        "# Define the Fitness Calculation Function\n",
        "\n",
        "def calc_fitness(chromosome: np.array, target: np.array):\n",
        "  '''\n",
        "    Calculates the mean absolute difference between an input RGB chromosome and the target RGB values.\n",
        "    Args:\n",
        "      chromosome (np.array): RGB chromosome to be evaluated\n",
        "      target (np.array): Target RGB values\n",
        "    Returns:\n",
        "      float: Mean absolute difference between the chromosome and the target\n",
        "  '''\n",
        "  return np.mean(np.abs(chromosome - target))"
      ],
      "metadata": {
        "id": "0weJ5l5fyZDh"
      },
      "execution_count": null,
      "outputs": []
    },
    {
      "cell_type": "code",
      "source": [],
      "metadata": {
        "id": "LPHBaaaC6D3v"
      },
      "execution_count": null,
      "outputs": []
    },
    {
      "cell_type": "code",
      "source": [
        "# Define the crossover function\n",
        "\n",
        "def crossover(parent_1: np.array, parent_2: np.array):\n",
        "  '''\n",
        "    Creates a child with a crossover operation between two parents.\n",
        "    Args:\n",
        "      parent_1 (np.array): First parent RGB values\n",
        "      parent_2 (np.array): Second parent RGB values\n",
        "    Returns:\n",
        "      np.array: Child RGB values\n",
        "  '''\n",
        "\n",
        "  # Create a child chromosome by combining the genes of two parents\n",
        "  child = np.zeros_like(parent_1)\n",
        "  for i in range(len(parent_1)):\n",
        "    if random.random() < 0.5:\n",
        "      child[i] = parent_1[i]\n",
        "    else:\n",
        "      child[i] = parent_2[i]\n",
        "  return child"
      ],
      "metadata": {
        "id": "ZYDTF8Nw0jU6"
      },
      "execution_count": null,
      "outputs": []
    },
    {
      "cell_type": "code",
      "source": [
        "# Define the mutation function\n",
        "\n",
        "def mutate(child: np.array, mutation_rate: float):\n",
        "  '''\n",
        "    Applies a random mutation operation to a chromosome.\n",
        "    Args:\n",
        "      child (np.array): RGB chromosome to be mutated\n",
        "      mutation_rate (float): Mutation rate\n",
        "    Returns:\n",
        "      np.array: Mutated RGB chromosome\n",
        "  '''\n",
        "  # Mutate the child chromosome with a probability determined by the mutation rate\n",
        "  for i in range(len(child)):\n",
        "    if random.random() < mutation_rate:\n",
        "      child[i] = np.random.randint(0, 256)\n",
        "\n",
        "  return child\n"
      ],
      "metadata": {
        "id": "KLI2DdAS0kUq"
      },
      "execution_count": null,
      "outputs": []
    },
    {
      "cell_type": "code",
      "source": [
        "# Population evolution Function\n",
        "\n",
        "def evolve_population(population: list, target_rgb: np.array,\n",
        "                      mutation_rate: float, elite_ratio: int):\n",
        "  \"\"\"\n",
        "    Evolves a population of chromosomes by selecting the best chromosomes (elites), mating them to create offspring, and applying random mutations to the offspring.\n",
        "\n",
        "    Args:\n",
        "      population (list): List of RGB chromosomes to be evolved\n",
        "      target_rgb (np.array): Target RGB values\n",
        "      mutation_rate (float): Mutation rate for random mutations\n",
        "      elite_ratio (int): Number of chromosomes to be selected as elites\n",
        "\n",
        "    Returns:\n",
        "      List[np.ndarray]: List of evolved RGB chromosomes\n",
        "  \"\"\"\n",
        "  # Calculate the fitness values for each chromosome in the population\n",
        "  fitness_values = [calc_fitness(chromosome, target_rgb) for chromosome in population]\n",
        "\n",
        "  # Select the best chromosomes (elites)\n",
        "  elite_indices = np.argsort(fitness_values)[:int(elite_ratio * len(population))]\n",
        "  elites = [population[i] for i in elite_indices]\n",
        "\n",
        "  # Create a new population by mating the elites\n",
        "  new_population = []\n",
        "  while len(new_population) < len(population) - len(elites):\n",
        "    # Select randomly two parents by the elites\n",
        "    parent_1, parent_2 = random.choices(elites, k=2)\n",
        "\n",
        "    # Perform mating by crossover\n",
        "    child = crossover(parent_1=parent_1, parent_2=parent_2)\n",
        "\n",
        "    # Perform mutation\n",
        "    if random.random() < mutation_rate:\n",
        "      child = mutate(child=child, mutation_rate=mutation_rate)\n",
        "\n",
        "    # Add the child to the new population\n",
        "    new_population.append(child)\n",
        "\n",
        "  # Return the evolved population\n",
        "  return elites + new_population"
      ],
      "metadata": {
        "id": "BzcRGtgTy_U6"
      },
      "execution_count": null,
      "outputs": []
    },
    {
      "cell_type": "code",
      "source": [
        "# Define the simulate Function\n",
        "\n",
        "def simulate(size: int, target_rgb: np.array, mutation_rate: float, elite_ratio: int, generations: int):\n",
        "  '''\n",
        "    Simulates the genetic algorithm process to find the best RGB values that match a target RGB value.\n",
        "\n",
        "    Args:\n",
        "      size (int): Population size\n",
        "      target_rgb (np.array): Target RGB values\n",
        "      mutation_rate (float): Mutation rate for random mutations\n",
        "      elite_ratio (int): Number of chromosomes to be selected as elites\n",
        "      generations (int): Number of generations to evolve\n",
        "    Returns:\n",
        "      np.array: Best RGB chromosome found\n",
        "      float: Best fitness value found\n",
        "  '''\n",
        "\n",
        "  # Initialize the population with random RGB values\n",
        "  population = np.random.randint(0, 256, size=(size, 3))\n",
        "\n",
        "  # Evolve the population over a specified number of generations\n",
        "  for i in range(generations):\n",
        "\n",
        "    # Evolve the population by selecting elites, mutating, and recombining\n",
        "    population = evolve_population(population, target_rgb, mutation_rate, elite_ratio)\n",
        "\n",
        "    # Get the individual with best fitness (closest to target RGB)\n",
        "    best_individual = population[np.argmin([calc_fitness(chromosome, target_rgb) for chromosome in population])]\n",
        "    print(f\"Generation {i+1}: Best RGB = {best_individual}, Fitness = {calc_fitness(best_individual, target_rgb)}\")\n",
        "\n",
        "  # Return the best individual candidate and the best fitness value for that individual\n",
        "  return best_individual, calc_fitness(best_individual, target_rgb)\n"
      ],
      "metadata": {
        "id": "7MmMu-0z1yI5"
      },
      "execution_count": null,
      "outputs": []
    },
    {
      "cell_type": "code",
      "source": [
        "target_rgb = np.array([255, 255, 0])\n",
        "size = 100\n",
        "mutation_rate = 0.01\n",
        "elite_ratio = 0.1\n",
        "generations = 50"
      ],
      "metadata": {
        "id": "Zow2rlDP3oWg"
      },
      "execution_count": null,
      "outputs": []
    },
    {
      "cell_type": "code",
      "source": [
        "%%time\n",
        "best_camouflage = simulate(size=size,\n",
        "                           target_rgb=target_rgb,\n",
        "                           mutation_rate=mutation_rate,\n",
        "                           elite_ratio=elite_ratio,\n",
        "                           generations=generations)\n",
        "\n",
        "print(f\"Target is {target_rgb}\")\n",
        "print(f\"Best camouflage is {best_camouflage[0]} with fitness {best_camouflage[1]}\")"
      ],
      "metadata": {
        "colab": {
          "base_uri": "https://localhost:8080/"
        },
        "id": "kvmI2a8m3DIH",
        "outputId": "3f3e2890-a878-45f2-cda8-7995cd201fd7"
      },
      "execution_count": null,
      "outputs": [
        {
          "output_type": "stream",
          "name": "stdout",
          "text": [
            "Generation 1: Best RGB = [252 239  25], Fitness = 14.666666666666666\n",
            "Generation 2: Best RGB = [250 247   7], Fitness = 6.666666666666667\n",
            "Generation 3: Best RGB = [252 249   7], Fitness = 5.333333333333333\n",
            "Generation 4: Best RGB = [252 249   7], Fitness = 5.333333333333333\n",
            "Generation 5: Best RGB = [252 249   7], Fitness = 5.333333333333333\n",
            "Generation 6: Best RGB = [252 249   7], Fitness = 5.333333333333333\n",
            "Generation 7: Best RGB = [252 249   7], Fitness = 5.333333333333333\n",
            "Generation 8: Best RGB = [252 249   7], Fitness = 5.333333333333333\n",
            "Generation 9: Best RGB = [252 249   7], Fitness = 5.333333333333333\n",
            "Generation 10: Best RGB = [252 249   7], Fitness = 5.333333333333333\n",
            "Generation 11: Best RGB = [252 249   7], Fitness = 5.333333333333333\n",
            "Generation 12: Best RGB = [252 249   7], Fitness = 5.333333333333333\n",
            "Generation 13: Best RGB = [252 249   7], Fitness = 5.333333333333333\n",
            "Generation 14: Best RGB = [252 249   7], Fitness = 5.333333333333333\n",
            "Generation 15: Best RGB = [252 249   7], Fitness = 5.333333333333333\n",
            "Generation 16: Best RGB = [252 249   7], Fitness = 5.333333333333333\n",
            "Generation 17: Best RGB = [252 249   7], Fitness = 5.333333333333333\n",
            "Generation 18: Best RGB = [252 249   7], Fitness = 5.333333333333333\n",
            "Generation 19: Best RGB = [252 249   7], Fitness = 5.333333333333333\n",
            "Generation 20: Best RGB = [252 249   7], Fitness = 5.333333333333333\n",
            "Generation 21: Best RGB = [252 249   7], Fitness = 5.333333333333333\n",
            "Generation 22: Best RGB = [252 249   7], Fitness = 5.333333333333333\n",
            "Generation 23: Best RGB = [252 249   7], Fitness = 5.333333333333333\n",
            "Generation 24: Best RGB = [252 249   7], Fitness = 5.333333333333333\n",
            "Generation 25: Best RGB = [252 249   7], Fitness = 5.333333333333333\n",
            "Generation 26: Best RGB = [252 249   7], Fitness = 5.333333333333333\n",
            "Generation 27: Best RGB = [252 249   7], Fitness = 5.333333333333333\n",
            "Generation 28: Best RGB = [252 249   7], Fitness = 5.333333333333333\n",
            "Generation 29: Best RGB = [252 249   7], Fitness = 5.333333333333333\n",
            "Generation 30: Best RGB = [252 249   7], Fitness = 5.333333333333333\n",
            "Generation 31: Best RGB = [252 249   7], Fitness = 5.333333333333333\n",
            "Generation 32: Best RGB = [252 249   7], Fitness = 5.333333333333333\n",
            "Generation 33: Best RGB = [252 249   7], Fitness = 5.333333333333333\n",
            "Generation 34: Best RGB = [252 249   7], Fitness = 5.333333333333333\n",
            "Generation 35: Best RGB = [252 249   7], Fitness = 5.333333333333333\n",
            "Generation 36: Best RGB = [252 249   7], Fitness = 5.333333333333333\n",
            "Generation 37: Best RGB = [252 249   7], Fitness = 5.333333333333333\n",
            "Generation 38: Best RGB = [252 249   7], Fitness = 5.333333333333333\n",
            "Generation 39: Best RGB = [252 249   7], Fitness = 5.333333333333333\n",
            "Generation 40: Best RGB = [252 249   7], Fitness = 5.333333333333333\n",
            "Generation 41: Best RGB = [252 249   7], Fitness = 5.333333333333333\n",
            "Generation 42: Best RGB = [252 249   7], Fitness = 5.333333333333333\n",
            "Generation 43: Best RGB = [252 249   7], Fitness = 5.333333333333333\n",
            "Generation 44: Best RGB = [252 249   7], Fitness = 5.333333333333333\n",
            "Generation 45: Best RGB = [252 249   7], Fitness = 5.333333333333333\n",
            "Generation 46: Best RGB = [252 249   7], Fitness = 5.333333333333333\n",
            "Generation 47: Best RGB = [252 249   7], Fitness = 5.333333333333333\n",
            "Generation 48: Best RGB = [252 249   7], Fitness = 5.333333333333333\n",
            "Generation 49: Best RGB = [252 249   7], Fitness = 5.333333333333333\n",
            "Generation 50: Best RGB = [252 249   7], Fitness = 5.333333333333333\n",
            "Target is [255 255   0]\n",
            "Best camouflage is [252 249   7] with fitness 5.333333333333333\n",
            "CPU times: user 184 ms, sys: 30.2 ms, total: 215 ms\n",
            "Wall time: 201 ms\n"
          ]
        }
      ]
    },
    {
      "cell_type": "code",
      "source": [
        "# Plot the best candidate and target RGB\n",
        "\n",
        "fig, ax = plt.subplots(1, 2, figsize=(10, 5))\n",
        "\n",
        "ax[0].imshow(np.reshape(target_rgb/255, (1, 1, 3)))\n",
        "ax[0].set_title(\"Target RGB\")\n",
        "ax[0].axis(\"off\")\n",
        "\n",
        "ax[1].imshow(np.reshape(best_camouflage[0]/255, (1, 1, 3)))\n",
        "ax[1].set_title(\"Best Camouflage\")\n",
        "ax[1].axis(\"off\")\n",
        "\n",
        "plt.show()"
      ],
      "metadata": {
        "colab": {
          "base_uri": "https://localhost:8080/",
          "height": 431
        },
        "id": "-_LwDFYW4Az8",
        "outputId": "51aea2e0-ae55-4fe6-de90-23feb107eff5"
      },
      "execution_count": null,
      "outputs": [
        {
          "output_type": "display_data",
          "data": {
            "text/plain": [
              "<Figure size 1000x500 with 2 Axes>"
            ],
            "image/png": "[encoded data removed]"
          },
          "metadata": {}
        }
      ]
    },
    {
      "cell_type": "markdown",
      "source": [
        "#### Extended to 2 D Images"
      ],
      "metadata": {
        "id": "Ojlz9oQ95vOF"
      }
    },
    {
      "cell_type": "code",
      "source": [
        "# Define the Fitness Calculation Function\n",
        "\n",
        "def calc_fitness(chromosome: np.array, target_grid: np.array):\n",
        "  '''\n",
        "    Calculates the mean absolute difference between an input RGB chromosome and the target RGB values.\n",
        "    Args:\n",
        "      chromosome (np.array): RGB chromosome to be evaluated\n",
        "      target_grid (np.array): Target RGB values\n",
        "    Returns:\n",
        "      float: Mean absolute difference between the chromosome and the target\n",
        "  '''\n",
        "  return np.mean(np.abs(chromosome - target_grid))\n",
        "\n",
        "# Define the crossover function\n",
        "\n",
        "def crossover(parent_1: np.array, parent_2: np.array):\n",
        "  '''\n",
        "    Creates a child with a crossover operation between two parents.\n",
        "    Args:\n",
        "      parent_1 (np.array): First parent RGB values\n",
        "      parent_2 (np.array): Second parent RGB values\n",
        "    Returns:\n",
        "      np.array: Child RGB values\n",
        "  '''\n",
        "\n",
        "  # Create a child chromosome by combining the genes of two parents\n",
        "  child = np.zeros_like(parent_1)\n",
        "  for i in range(len(parent_1)):\n",
        "    for j in range(len(parent_1[i])):\n",
        "      for k in range(len(parent_1[i][j])):\n",
        "        if random.random() < 0.5:\n",
        "          child[i][j][k] = parent_1[i][j][k]\n",
        "        else:\n",
        "          child[i][j][k] = parent_2[i][j][k]\n",
        "  return child\n",
        "\n",
        "# Define the mutation function\n",
        "\n",
        "def mutate(child: np.array, mutation_rate: float):\n",
        "  '''\n",
        "    Applies a random mutation operation to a chromosome.\n",
        "    Args:\n",
        "      child (np.array): RGB chromosome to be mutated\n",
        "      mutation_rate (float): Mutation rate\n",
        "    Returns:\n",
        "      np.array: Mutated RGB chromosome\n",
        "  '''\n",
        "  # Mutate the child chromosome with a probability determined by the mutation rate\n",
        "  for i in range(len(child)):\n",
        "    for j in range(len(child[i])):\n",
        "      for k in range(len(child[i][j])):\n",
        "        if random.random() < mutation_rate:\n",
        "          child[i][j][k] = np.random.randint(0, 256)\n",
        "\n",
        "  return child\n",
        "\n",
        "\n",
        "# Population evolution Function\n",
        "\n",
        "def evolve_population(population: list, target_grid: np.array,\n",
        "                      mutation_rate: float, elite_ratio: int):\n",
        "  \"\"\"\n",
        "    Evolves a population of chromosomes by selecting the best chromosomes (elites), mating them to create offspring, and applying random mutations to the offspring.\n",
        "\n",
        "    Args:\n",
        "      population (list): List of RGB chromosomes to be evolved\n",
        "      target_grid (np.array): Target RGB values\n",
        "      mutation_rate (float): Mutation rate for random mutations\n",
        "      elite_ratio (int): Number of chromosomes to be selected as elites\n",
        "\n",
        "    Returns:\n",
        "      List[np.ndarray]: List of evolved RGB chromosomes\n",
        "  \"\"\"\n",
        "  # Calculate the fitness values for each chromosome in the population\n",
        "  fitness_values = [calc_fitness(chromosome, target_grid) for chromosome in population]\n",
        "\n",
        "  # Select the best chromosomes (elites)\n",
        "  elite_indices = np.argsort(fitness_values)[:int(elite_ratio * len(population))]\n",
        "  elites = [population[i] for i in elite_indices]\n",
        "\n",
        "  # Create a new population by mating the elites\n",
        "  new_population = []\n",
        "\n",
        "  while len(new_population) < len(population) - len(elites):\n",
        "    # Select randomly two parents by the elites\n",
        "    parent_1, parent_2 = random.choices(elites, k=2)\n",
        "\n",
        "    # Perform mating by crossover\n",
        "    child = crossover(parent_1=parent_1, parent_2=parent_2)\n",
        "\n",
        "    # Perform mutation\n",
        "    if random.random() < mutation_rate:\n",
        "      child = mutate(child=child, mutation_rate=mutation_rate)\n",
        "\n",
        "    # Add the child to the new population\n",
        "    new_population.append(child)\n",
        "\n",
        "  # Return the evolved population\n",
        "  return elites + new_population\n",
        "\n",
        "\n",
        "# Define the simulate Function\n",
        "global images\n",
        "images = []\n",
        "\n",
        "def two_d_simulate(size: int, target_grid: np.array,\n",
        "             mutation_rate: float, elite_ratio: int, generations: int):\n",
        "  '''\n",
        "    Simulates the genetic algorithm process to find the best RGB values that match a target RGB value.\n",
        "\n",
        "    Args:\n",
        "      size (int): Population size\n",
        "      target_rgb (np.array): Target image of the evolutionary process\n",
        "      mutation_rate (float): Mutation rate for random mutations\n",
        "      elite_ratio (int): Number of chromosomes to be selected as elites\n",
        "      generations (int): Number of generations to evolve\n",
        "    Returns:\n",
        "      np.array: Best RGB chromosome found\n",
        "      float: Best fitness value found\n",
        "  '''\n",
        "  # The size fo each image in the population\n",
        "  grid_size = (16, 16, 3)\n",
        "\n",
        "  # Initialize the population with random RGB values\n",
        "  population = [np.random.randint(0, 256, size=grid_size) for _ in range(size)]\n",
        "\n",
        "  # Evolve the population over a specified number of generations\n",
        "  for i in range(generations):\n",
        "\n",
        "    # Evolve the population by selecting elites, mutating, and recombining\n",
        "    population = evolve_population(population,\n",
        "                                   target_grid,\n",
        "                                   mutation_rate,\n",
        "                                   elite_ratio)\n",
        "\n",
        "    # Get the individual with best fitness (closest to target RGB)\n",
        "    best_individual = population[np.argmin([calc_fitness(chromosome, target_rgb) for chromosome in population])]\n",
        "    print(f\"Generation {i+1}: Best Fitness = {calc_fitness(best_individual, target_grid)}\")\n",
        "\n",
        "    # store the generated images\n",
        "    images.append(best_individual.reshape(grid_size).astype(np.uint8))\n",
        "\n",
        "  # Return the best individual candidate and the best fitness value for that individual\n",
        "  return best_individual, calc_fitness(best_individual, target_grid), images"
      ],
      "metadata": {
        "id": "nIW9dYaP5GUs"
      },
      "execution_count": null,
      "outputs": []
    },
    {
      "cell_type": "code",
      "source": [
        "target_grid = np.zeros((16, 16, 3), dtype=np.uint8)\n",
        "#Yellow color from African Savannah [222, 165, 33]\n",
        "# Green grass [0, 154, 23]\n",
        "target_grid[:] = [222, 165, 33]\n",
        "\n",
        "size = 100\n",
        "generations = 50\n",
        "mutation_rate = 0.01\n",
        "elite_ratio = 0.1"
      ],
      "metadata": {
        "id": "2MeoYKgY7Gr-"
      },
      "execution_count": null,
      "outputs": []
    },
    {
      "cell_type": "code",
      "source": [
        "best_camouflage, best_fitness_score, images = best_camouflage = two_d_simulate(size=size,\n",
        "                                                                         target_grid=target_grid,\n",
        "                                                                         mutation_rate=mutation_rate,\n",
        "                                                                         elite_ratio=elite_ratio,\n",
        "                                                                         generations=generations)"
      ],
      "metadata": {
        "colab": {
          "base_uri": "https://localhost:8080/"
        },
        "id": "w9gn06Ix8-qa",
        "outputId": "7182be8f-d45f-49fc-cd8b-23ab452e18de"
      },
      "execution_count": null,
      "outputs": [
        {
          "output_type": "stream",
          "name": "stdout",
          "text": [
            "Generation 1: Best Fitness = 83.90234375\n",
            "Generation 2: Best Fitness = 79.99479166666667\n",
            "Generation 3: Best Fitness = 78.50390625\n",
            "Generation 4: Best Fitness = 76.57682291666667\n",
            "Generation 5: Best Fitness = 74.4609375\n",
            "Generation 6: Best Fitness = 72.03776041666667\n",
            "Generation 7: Best Fitness = 70.84895833333333\n",
            "Generation 8: Best Fitness = 69.86197916666667\n",
            "Generation 9: Best Fitness = 67.74479166666667\n",
            "Generation 10: Best Fitness = 66.83333333333333\n",
            "Generation 11: Best Fitness = 65.06640625\n",
            "Generation 12: Best Fitness = 64.07942708333333\n",
            "Generation 13: Best Fitness = 63.17578125\n",
            "Generation 14: Best Fitness = 62.147135416666664\n",
            "Generation 15: Best Fitness = 61.091145833333336\n",
            "Generation 16: Best Fitness = 60.481770833333336\n",
            "Generation 17: Best Fitness = 59.149739583333336\n",
            "Generation 18: Best Fitness = 58.845052083333336\n",
            "Generation 19: Best Fitness = 57.90625\n",
            "Generation 20: Best Fitness = 57.438802083333336\n",
            "Generation 21: Best Fitness = 57.287760416666664\n",
            "Generation 22: Best Fitness = 56.24609375\n",
            "Generation 23: Best Fitness = 55.78515625\n",
            "Generation 24: Best Fitness = 55.950520833333336\n",
            "Generation 25: Best Fitness = 55.79296875\n",
            "Generation 26: Best Fitness = 55.436197916666664\n",
            "Generation 27: Best Fitness = 55.438802083333336\n",
            "Generation 28: Best Fitness = 55.205729166666664\n",
            "Generation 29: Best Fitness = 55.182291666666664\n",
            "Generation 30: Best Fitness = 55.125\n",
            "Generation 31: Best Fitness = 55.057291666666664\n",
            "Generation 32: Best Fitness = 54.888020833333336\n",
            "Generation 33: Best Fitness = 54.901041666666664\n",
            "Generation 34: Best Fitness = 54.868489583333336\n",
            "Generation 35: Best Fitness = 54.864583333333336\n",
            "Generation 36: Best Fitness = 54.87109375\n",
            "Generation 37: Best Fitness = 54.864583333333336\n",
            "Generation 38: Best Fitness = 54.864583333333336\n",
            "Generation 39: Best Fitness = 54.864583333333336\n",
            "Generation 40: Best Fitness = 54.830729166666664\n",
            "Generation 41: Best Fitness = 54.638020833333336\n",
            "Generation 42: Best Fitness = 54.552083333333336\n",
            "Generation 43: Best Fitness = 54.48828125\n",
            "Generation 44: Best Fitness = 54.451822916666664\n",
            "Generation 45: Best Fitness = 54.430989583333336\n",
            "Generation 46: Best Fitness = 54.41796875\n",
            "Generation 47: Best Fitness = 54.404947916666664\n",
            "Generation 48: Best Fitness = 54.553385416666664\n",
            "Generation 49: Best Fitness = 54.404947916666664\n",
            "Generation 50: Best Fitness = 54.404947916666664\n"
          ]
        }
      ]
    },
    {
      "cell_type": "code",
      "source": [
        "import numpy as np\n",
        "import matplotlib.pyplot as plt\n",
        "\n",
        "## Function to display a grid of images\n",
        "def display_images(images, num_images=50, rows=10, cols=5):\n",
        "    fig, axs = plt.subplots(rows, cols, figsize=(20, 20))\n",
        "    for i, ax in enumerate(axs.ravel()):\n",
        "        if i < num_images:\n",
        "            ax.imshow(images[i], cmap='gray')\n",
        "            ax.axis('off')\n",
        "        else:\n",
        "            fig.delaxes(ax)\n",
        "    plt.tight_layout()\n",
        "    plt.show()\n",
        "\n",
        "# Plot images:\n",
        "\n",
        "display_images(images, rows=5, cols=10)"
      ],
      "metadata": {
        "colab": {
          "base_uri": "https://localhost:8080/",
          "height": 1000
        },
        "id": "sUgXc49x9GP7",
        "outputId": "d24009c5-9910-4cfc-a57e-ae87a96327b5"
      },
      "execution_count": null,
      "outputs": [
        {
          "output_type": "display_data",
          "data": {
            "text/plain": [
              "<Figure size 2000x2000 with 50 Axes>"
            ],
            "image/png": "[encoded data removed]"
          },
          "metadata": {}
        }
      ]
    },
    {
      "cell_type": "code",
      "source": [],
      "metadata": {
        "id": "nDXNa2Ss_pP9"
      },
      "execution_count": null,
      "outputs": []
    }
  ]
}